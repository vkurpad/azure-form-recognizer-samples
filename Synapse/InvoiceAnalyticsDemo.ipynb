{
  "cells": [
    {
      "cell_type": "code",
      "execution_count": 2,
      "metadata": {
        "jupyter": {
          "outputs_hidden": false,
          "source_hidden": false
        },
        "nteract": {
          "transient": {
            "deleting": false
          }
        }
      },
      "outputs": [],
      "source": [
        "%%configure -f\n",
        "\n",
        "{\n",
        "\n",
        "    \"name\": \"synapseml\",\n",
        "\n",
        "    \"conf\": {\n",
        "\n",
        "        \"spark.jars.packages\": \"com.microsoft.azure:synapseml_2.12:0.9.4\",\n",
        "\n",
        "        \"spark.jars.repositories\": \"https://mmlspark.azureedge.net/maven\",\n",
        "\n",
        "        \"spark.jars.excludes\": \"org.scala-lang:scala-reflect,org.apache.spark:spark-tags_2.12,org.scalactic:scalactic_2.12,org.scalatest:scalatest_2.12\",\n",
        "\n",
        "        \"spark.yarn.user.classpath.first\": \"true\"\n",
        "\n",
        "    }\n",
        "\n",
        "}"
      ]
    },
    {
      "cell_type": "code",
      "execution_count": 75,
      "metadata": {},
      "outputs": [],
      "source": [
        "import os\n",
        "#key = os.environ['VISION_API_KEY']\n",
        "key = \"FORM REC KEY\"\n",
        "#search_key = os.environ['AZURE_SEARCH_KEY']\n",
        "search_key = \"\"\n",
        "#translator_key = os.environ['TRANSLATOR_KEY']\n",
        "translator_key = \"\"\n",
        "search_service = \"vikurpad-search\"\n",
        "search_index = \"form-demo-index2\""
      ]
    },
    {
      "cell_type": "code",
      "execution_count": 4,
      "metadata": {
        "jupyter": {
          "outputs_hidden": false,
          "source_hidden": false
        },
        "nteract": {
          "transient": {
            "deleting": false
          }
        }
      },
      "outputs": [],
      "source": [
        "from pyspark.sql.functions import udf\n",
        "from pyspark.sql.types import StringType\n",
        "\n",
        "def blob_to_url(blob):\n",
        "  [prefix, postfix] = blob.split(\"@\")\n",
        "  container = prefix.split(\"/\")[-1]\n",
        "  split_postfix = postfix.split(\"/\")\n",
        "  account = split_postfix[0]\n",
        "  filepath = \"/\".join(split_postfix[1:])\n",
        "  return \"https://{}/{}/{}\".format(account, container, filepath)\n",
        "\n",
        "\n",
        "df2 = (spark.read.format(\"binaryFile\")\n",
        "       .load(\"wasbs://ignite2021@mmlsparkdemo.blob.core.windows.net/form_subset/*\")\n",
        "       .select(\"path\")\n",
        "       .limit(10)\n",
        "       .select(udf(blob_to_url, StringType())(\"path\").alias(\"url\"))\n",
        "       .cache()\n",
        "      )"
      ]
    },
    {
      "cell_type": "code",
      "execution_count": 5,
      "metadata": {
        "collapsed": false,
        "jupyter": {
          "outputs_hidden": false,
          "source_hidden": false
        },
        "nteract": {
          "transient": {
            "deleting": false
          }
        }
      },
      "outputs": [],
      "source": [
        "display(df2)"
      ]
    },
    {
      "cell_type": "code",
      "execution_count": 6,
      "metadata": {
        "jupyter": {
          "outputs_hidden": false,
          "source_hidden": false
        },
        "nteract": {
          "transient": {
            "deleting": false
          }
        }
      },
      "outputs": [],
      "source": [
        "displayHTML(\"\"\"\n",
        "<embed src=\"https://mmlsparkdemo.blob.core.windows.net/ignite2021/form_svgs/Invoice11205.svg\" width=\"40%\"/>\n",
        "\"\"\")"
      ]
    },
    {
      "cell_type": "code",
      "execution_count": 7,
      "metadata": {
        "jupyter": {
          "outputs_hidden": false,
          "source_hidden": false
        },
        "nteract": {
          "transient": {
            "deleting": false
          }
        }
      },
      "outputs": [],
      "source": [
        "from synapse.ml.cognitive import AnalyzeInvoices\n",
        "\n",
        "analyzed_df = (AnalyzeInvoices()\n",
        "  .setSubscriptionKey(key)\n",
        "  .setLocation(\"westus2\")\n",
        "  .setImageUrlCol(\"url\")\n",
        "  .setOutputCol(\"invoices\")\n",
        "  .setErrorCol(\"errors\")\n",
        "  .setConcurrency(5)\n",
        "  .transform(df2)\n",
        "  .cache())"
      ]
    },
    {
      "cell_type": "code",
      "execution_count": 8,
      "metadata": {
        "collapsed": false,
        "jupyter": {
          "outputs_hidden": false,
          "source_hidden": false
        },
        "nteract": {
          "transient": {
            "deleting": false
          }
        }
      },
      "outputs": [],
      "source": [
        "display(analyzed_df)"
      ]
    },
    {
      "cell_type": "code",
      "execution_count": 9,
      "metadata": {
        "jupyter": {
          "outputs_hidden": false,
          "source_hidden": false
        },
        "nteract": {
          "transient": {
            "deleting": false
          }
        }
      },
      "outputs": [],
      "source": [
        "from synapse.ml.cognitive import FormOntologyLearner\n",
        "\n",
        "organized_df = (FormOntologyLearner()\n",
        "  .setInputCol(\"invoices\")\n",
        "  .setOutputCol(\"extracted\")\n",
        "  .fit(analyzed_df)\n",
        "  .transform(analyzed_df)\n",
        "  .select(\"url\", \"extracted.*\")\n",
        "  .cache())"
      ]
    },
    {
      "cell_type": "code",
      "execution_count": 10,
      "metadata": {
        "collapsed": false,
        "jupyter": {
          "outputs_hidden": false,
          "source_hidden": false
        },
        "nteract": {
          "transient": {
            "deleting": false
          }
        }
      },
      "outputs": [],
      "source": [
        "display(organized_df)"
      ]
    },
    {
      "cell_type": "code",
      "execution_count": 11,
      "metadata": {
        "jupyter": {
          "outputs_hidden": false,
          "source_hidden": false
        },
        "nteract": {
          "transient": {
            "deleting": false
          }
        }
      },
      "outputs": [],
      "source": [
        "from pyspark.sql.functions import explode, col\n",
        "itemized_df = (organized_df\n",
        "        .select(\"*\", explode(col(\"Items\")).alias(\"Item\"))\n",
        "        .drop(\"Items\")\n",
        "        .select(\"Item.*\", \"*\")\n",
        "        .drop(\"Item\"))"
      ]
    },
    {
      "cell_type": "code",
      "execution_count": 12,
      "metadata": {
        "collapsed": false,
        "jupyter": {
          "outputs_hidden": false,
          "source_hidden": false
        },
        "nteract": {
          "transient": {
            "deleting": false
          }
        }
      },
      "outputs": [],
      "source": [
        "display(itemized_df)"
      ]
    },
    {
      "cell_type": "code",
      "execution_count": 23,
      "metadata": {
        "collapsed": false,
        "jupyter": {
          "outputs_hidden": false,
          "source_hidden": false
        },
        "nteract": {
          "transient": {
            "deleting": false
          }
        }
      },
      "outputs": [],
      "source": [
        "fraud_threshold = itemized_df.stat.approxQuantile(\"Amount\", [.9], .01)[0]\n",
        "fraud_df = itemized_df.withColumn(\"FraudWarning\", col(\"Amount\") > fraud_threshold)"
      ]
    },
    {
      "cell_type": "code",
      "execution_count": 68,
      "metadata": {
        "collapsed": false,
        "jupyter": {
          "outputs_hidden": false,
          "source_hidden": false
        },
        "nteract": {
          "transient": {
            "deleting": false
          }
        }
      },
      "outputs": [],
      "source": [
        "display(fraud_df.where(col(\"FraudWarning\")))"
      ]
    },
    {
      "cell_type": "code",
      "execution_count": 67,
      "metadata": {
        "jupyter": {
          "outputs_hidden": false,
          "source_hidden": false
        },
        "nteract": {
          "transient": {
            "deleting": false
          }
        }
      },
      "outputs": [],
      "source": [
        "fraud_df.where(col(\"FraudWarning\")).createOrReplaceTempView(\"fraudtable\")"
      ]
    },
    {
      "cell_type": "code",
      "execution_count": 69,
      "metadata": {
        "jupyter": {
          "outputs_hidden": false,
          "source_hidden": false
        },
        "microsoft": {
          "language": "scala"
        },
        "nteract": {
          "transient": {
            "deleting": false
          }
        }
      },
      "outputs": [],
      "source": [
        "%%spark\n",
        "fraud_df.write.\n",
        "option(Constants.SERVER, \"SQLSERVER.sql.azuresynapse.net\").\n",
        "option(Constants.USER, \"sqladminuser\").\n",
        "option(Constants.PASSWORD, \"PASSWORD\").\n",
        "synapsesql(\"output.dbo.PySparkTable\", Constants.INTERNAL)"
      ]
    },
    {
      "cell_type": "code",
      "execution_count": 71,
      "metadata": {
        "jupyter": {
          "outputs_hidden": false,
          "source_hidden": false
        },
        "microsoft": {
          "language": "scala"
        },
        "nteract": {
          "transient": {
            "deleting": false
          }
        }
      },
      "outputs": [],
      "source": [
        "%%spark\n",
        "spark.sqlContext.sql(\"select * from fraudtable\").write.\n",
        "option(Constants.SERVER, \"SQLSERVER.sql.azuresynapse.net\").\n",
        "option(Constants.USER, \"sqladminuser\").\n",
        "option(Constants.PASSWORD, \"PASSWORD\").\n",
        "synapsesql(\"output.dbo.PySparkTable\", Constants.INTERNAL)"
      ]
    },
    {
      "cell_type": "code",
      "execution_count": 72,
      "metadata": {
        "jupyter": {
          "outputs_hidden": false,
          "source_hidden": false
        },
        "nteract": {
          "transient": {
            "deleting": false
          }
        }
      },
      "outputs": [],
      "source": [
        "from synapse.ml.cognitive import Translate\n",
        "\n",
        "translated_df = (Translate()\n",
        "    .setSubscriptionKey(translator_key)\n",
        "    .setLocation(\"eastus\")\n",
        "    .setTextCol(\"Description\")\n",
        "    .setErrorCol(\"TranslationError\")\n",
        "    .setOutputCol(\"output\")\n",
        "    .setToLanguage([\"zh-Hans\", \"fr\", \"ru\", \"cy\"])\n",
        "    .setConcurrency(5)\n",
        "    .transform(fraud_df)\n",
        "    .withColumn(\"Translations\", col(\"output.translations\")[0])\n",
        "    .drop(\"output\", \"TranslationError\")\n",
        "    .cache())"
      ]
    },
    {
      "cell_type": "code",
      "execution_count": 73,
      "metadata": {
        "collapsed": false,
        "jupyter": {
          "outputs_hidden": false,
          "source_hidden": false
        },
        "nteract": {
          "transient": {
            "deleting": false
          }
        }
      },
      "outputs": [],
      "source": [
        "display(translated_df)"
      ]
    },
    {
      "cell_type": "code",
      "execution_count": 76,
      "metadata": {
        "jupyter": {
          "outputs_hidden": false,
          "source_hidden": false
        },
        "nteract": {
          "transient": {
            "deleting": false
          }
        }
      },
      "outputs": [],
      "source": [
        "from synapse.ml.cognitive import *\n",
        "from pyspark.sql.functions import monotonically_increasing_id, lit\n",
        "\n",
        "(translated_df\n",
        "  .withColumn(\"DocID\", monotonically_increasing_id().cast(\"string\"))\n",
        "  .withColumn(\"SearchAction\", lit(\"upload\"))\n",
        "  .writeToAzureSearch(\n",
        "    subscriptionKey=search_key,\n",
        "    actionCol=\"SearchAction\",\n",
        "    serviceName=search_service,\n",
        "    indexName=search_index,\n",
        "    keyCol=\"DocID\")\n",
        ")"
      ]
    },
    {
      "cell_type": "code",
      "execution_count": 78,
      "metadata": {
        "jupyter": {
          "outputs_hidden": false,
          "source_hidden": false
        },
        "nteract": {
          "transient": {
            "deleting": false
          }
        }
      },
      "outputs": [],
      "source": [
        "import requests\n",
        "url = 'https://{}.search.windows.net/indexes/{}/docs/search?api-version=2019-05-06'.format(search_service, search_index)\n",
        "requests.post(url, json={\"search\": \"*\",\n",
        "    \"filter\": \"FraudWarning eq true\",}, headers = {\"api-key\": search_key}).json()\n"
      ]
    },
    {
      "cell_type": "code",
      "execution_count": null,
      "metadata": {
        "jupyter": {
          "outputs_hidden": false,
          "source_hidden": false
        },
        "nteract": {
          "transient": {
            "deleting": false
          }
        }
      },
      "outputs": [],
      "source": []
    }
  ],
  "metadata": {
    "kernelspec": {
      "display_name": "Synapse PySpark",
      "name": "synapse_pyspark"
    },
    "language_info": {
      "name": "python"
    },
    "save_output": true,
    "synapse_widget": {
      "state": {},
      "version": "0.1"
    }
  },
  "nbformat": 4,
  "nbformat_minor": 2
}
