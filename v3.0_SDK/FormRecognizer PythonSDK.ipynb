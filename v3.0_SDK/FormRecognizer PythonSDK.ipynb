{
 "cells": [
  {
   "cell_type": "code",
   "execution_count": null,
   "metadata": {},
   "outputs": [],
   "source": [
    "!pip install azure-ai-formrecognizer==3.2.0b3"
   ]
  },
  {
   "cell_type": "code",
   "execution_count": null,
   "metadata": {},
   "outputs": [],
   "source": [
    "from azure.core.credentials import AzureKeyCredential\n",
    "from azure.ai.formrecognizer import DocumentAnalysisClient, DocumentModelAdministrationClient\n",
    "import os\n",
    "import pandas as pd"
   ]
  },
  {
   "cell_type": "code",
   "execution_count": null,
   "metadata": {},
   "outputs": [],
   "source": [
    "os.environ[\"AZURE_FORM_RECOGNIZER_KEY\"] = \"Form Recognizer Key\"\n",
    "os.environ[\"AZURE_FORM_RECOGNIZER_ENDPOINT\"] = \"https://{endpoint}.cognitiveservices.azure.com/\""
   ]
  },
  {
   "cell_type": "code",
   "execution_count": null,
   "metadata": {},
   "outputs": [],
   "source": [
    "endpoint = os.environ[\"AZURE_FORM_RECOGNIZER_ENDPOINT\"]\n",
    "key = os.environ[\"AZURE_FORM_RECOGNIZER_KEY\"]\n",
    "\n",
    "document_admin_client = DocumentModelAdministrationClient(endpoint=endpoint, credential=AzureKeyCredential(key))\n",
    "models = document_admin_client.list_models()\n",
    "for model in models:\n",
    "    print(\"{} | {}\".format(model.model_id, model.description))\n",
    "\n",
    "\n"
   ]
  },
  {
   "cell_type": "code",
   "execution_count": null,
   "metadata": {},
   "outputs": [],
   "source": [
    "document_analysis_client = DocumentAnalysisClient(\n",
    "        endpoint=endpoint, credential=AzureKeyCredential(key))\n",
    "\n",
    "path_to_sample_documents = os.path.abspath(\n",
    "        os.path.join(\n",
    "            os.getcwd(),\n",
    "            \"Demo Data/Car Maintenance/Test/Ignite.png\",\n",
    "        )\n",
    "    )\n",
    "\n",
    "with open(path_to_sample_documents, \"rb\") as f:\n",
    "        poller = document_analysis_client.begin_analyze_document(\n",
    "            \"CarMaint\", document=f)\n",
    "result = poller.result()\n",
    "for idx, document in enumerate(result.documents):\n",
    "        print(\"--------Analyzing document #{}--------\".format(idx + 1))\n",
    "        print(\"Document has type {}\".format(document.doc_type))\n",
    "        print(\"Document has confidence {}\".format(document.confidence))\n",
    "        print(\"Document was analyzed by model with ID {}\".format(result.model_id))\n",
    "        for name, field in document.fields.items():\n",
    "            field_value = field.value if field.value else field.content\n",
    "            \n",
    "            \n",
    "            if field.value_type == \"list\":\n",
    "                df_list  = []\n",
    "                for row in field.value:\n",
    "                    a_row = {}\n",
    "                    for key, value in row.value.items():\n",
    "                        a_row[key] = value.content\n",
    "                    df_list.append(a_row)\n",
    "                \n",
    "                df = pd.DataFrame(df_list)\n",
    "                display(df)\n",
    "            else:\n",
    "                print(\"......found field of type '{}' with value '{}' and with confidence {}\".format(field.value_type, field_value, field.confidence))\n",
    "            "
   ]
  },
  {
   "cell_type": "code",
   "execution_count": null,
   "metadata": {},
   "outputs": [],
   "source": []
  }
 ],
 "metadata": {
  "kernelspec": {
   "display_name": "Python 3.7.4 64-bit ('Continuum': virtualenv)",
   "language": "python",
   "name": "python37464bitcontinuumvirtualenvdbe550eea4e94cf9bcfbd49e67dabe7d"
  },
  "language_info": {
   "codemirror_mode": {
    "name": "ipython",
    "version": 3
   },
   "file_extension": ".py",
   "mimetype": "text/x-python",
   "name": "python",
   "nbconvert_exporter": "python",
   "pygments_lexer": "ipython3",
   "version": "3.7.4"
  }
 },
 "nbformat": 4,
 "nbformat_minor": 2
}
