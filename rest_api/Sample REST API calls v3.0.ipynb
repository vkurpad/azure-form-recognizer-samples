{
 "cells": [
  {
   "cell_type": "markdown",
   "metadata": {},
   "source": [
    "# Form Recognizer v3.0 API\n",
    "## Sample API calls demosntrating the Form Recognizer v3.0 API\n",
    "\n",
    "Import the required packages and set the required variables"
   ]
  },
  {
   "cell_type": "code",
   "execution_count": null,
   "metadata": {},
   "outputs": [],
   "source": [
    "import json, time\n",
    "from requests import get, post\n",
    "\n",
    "endpoint = r\"https://{host}.cognitiveservices.azure.com/\"\n",
    "apim_key = \"{FormRecognizerAPIKey}\"\n",
    "api_version = \"2022-08-31\"\n",
    "v2_url = endpoint + \"/formrecognizer/v2.1/prebuilt/invoice/analyze?locale=en-US\"\n",
    "v3_url = endpoint + f\"formrecognizer/documentModels/%s:analyze?api-version={api_version}\"\n",
    "print(v3_url)"
   ]
  },
  {
   "cell_type": "markdown",
   "metadata": {},
   "source": [
    "Form Recognizer consists of the following actions. Each of these actions is invoked in the following cells:\n",
    "1. Analyze Prebuilt Invoice\n",
    "2. Analyze Prebuilt Receipt\n",
    "3. Analyze Prebuilt Id\n",
    "4. Analyze Prebuilt Hotel Receipt\n",
    "5. Analyze Prebuilt Document\n",
    "6. Train Custom Model\n",
    "7. Get Status of Custom Model Train Operation\n",
    "7. Analyze Custom Model\n",
    "8. Get Model\n",
    "9. Model Compose\n",
    "10. Copy Model"
   ]
  },
  {
   "cell_type": "markdown",
   "metadata": {},
   "source": [
    "## Sample Analyze invoice "
   ]
  },
  {
   "cell_type": "code",
   "execution_count": null,
   "metadata": {},
   "outputs": [],
   "source": [
    "url = v3_url%\"prebuilt-invoice\"\n",
    "body = { \n",
    "    \"urlSource\": \"SAS URL to a file\" \n",
    "    }\n",
    "headers = {\n",
    "    # Request headers\n",
    "    'Content-Type': 'application/json',\n",
    "    'Ocp-Apim-Subscription-Key': apim_key,\n",
    "}\n",
    "\n",
    "params = {\n",
    "   \n",
    "    \"locale\": \"en-US\"\n",
    "}\n",
    "try:\n",
    "    resp = post(url = url, data = json.dumps(body), headers = headers, params = params)\n",
    "    if resp.status_code != 202:\n",
    "        print(\"POST analyze failed:\\n%s\" % resp.text)\n",
    "        quit()\n",
    "    print(\"POST analyze succeeded:\\n\" )\n",
    "    get_url = resp.headers[\"operation-location\"]\n",
    "    print(get_url)\n",
    "except Exception as e:\n",
    "    print(\"POST analyze failed:\\n%s\" % str(e))\n",
    "    quit()"
   ]
  },
  {
   "cell_type": "code",
   "execution_count": null,
   "metadata": {
    "scrolled": false
   },
   "outputs": [],
   "source": [
    "model = \"invoice\"\n",
    "n_tries = 10\n",
    "n_try = 0\n",
    "wait_sec = 6\n",
    "while n_try < n_tries:\n",
    "    try:\n",
    "        resp = get(url = get_url, headers = {\"Ocp-Apim-Subscription-Key\": apim_key})\n",
    "        resp_json = json.loads(resp.text)\n",
    "        if resp.status_code != 200:\n",
    "            print(\"GET Invoice results failed:\\n%s\" % resp_json)\n",
    "            break\n",
    "        status = resp_json[\"status\"]\n",
    "        if status == \"succeeded\":\n",
    "            print(f\"{model} Analysis succeeded:\\n\" )\n",
    "            for doc in resp_json[\"analyzeResult\"][\"documents\"]:\n",
    "                for key,value in doc[\"fields\"].items():\n",
    "                    print(f\"Key: {key}, Value: {value['content']}\")\n",
    "                  \n",
    "            break\n",
    "            quit()\n",
    "        if status == \"failed\":\n",
    "            print(f\"{model} Analysis failed:\\n%s\" % resp_json)\n",
    "            break\n",
    "        # Analysis still running. Wait and retry.\n",
    "        time.sleep(wait_sec)\n",
    "        n_try += 1     \n",
    "    except Exception as e:\n",
    "        msg = \"GET analyze results failed:\\n%s\" % str(e)\n",
    "        print(msg)\n",
    "        break\n",
    "        quit()"
   ]
  },
  {
   "cell_type": "markdown",
   "metadata": {},
   "source": [
    "## Sample Analyze receipt "
   ]
  },
  {
   "cell_type": "code",
   "execution_count": null,
   "metadata": {},
   "outputs": [],
   "source": [
    "url = v3_url%\"prebuilt-receipt\"\n",
    "body = { \n",
    "    \"urlSource\": \"SAS URL to a file\" \n",
    "    }\n",
    "headers = {\n",
    "    # Request headers\n",
    "    'Content-Type': 'application/json',\n",
    "    'Ocp-Apim-Subscription-Key': apim_key,\n",
    "}\n",
    "params = {\n",
    "   \n",
    "    \"locale\": \"en-US\"\n",
    "}\n",
    "try:\n",
    "    resp = post(url = url, data = json.dumps(body), headers = headers, params = params)\n",
    "    if resp.status_code != 202:\n",
    "        print(\"POST analyze failed:\\n%s\" % resp.text)\n",
    "        quit()\n",
    "    print(\"POST analyze succeeded:\\n\")\n",
    "    get_url = resp.headers[\"operation-location\"]\n",
    "    print(get_url)\n",
    "except Exception as e:\n",
    "    print(\"POST analyze failed:\\n%s\" % str(e))\n",
    "    quit()"
   ]
  },
  {
   "cell_type": "code",
   "execution_count": null,
   "metadata": {},
   "outputs": [],
   "source": [
    "model = \"receipt\"\n",
    "n_tries = 10\n",
    "n_try = 0\n",
    "wait_sec = 6\n",
    "while n_try < n_tries:\n",
    "    try:\n",
    "        resp = get(url = get_url, headers = {\"Ocp-Apim-Subscription-Key\": apim_key})\n",
    "        resp_json = json.loads(resp.text)\n",
    "        \n",
    "        if resp.status_code != 200:\n",
    "            print(\"GET Receipt results failed:\\n%s\" % str(resp.status_code))\n",
    "            break\n",
    "        status = resp_json[\"status\"]\n",
    "        if status == \"succeeded\":\n",
    "            \n",
    "            for doc in resp_json[\"analyzeResult\"][\"documents\"]:\n",
    "                for key,value in doc[\"fields\"].items():\n",
    "                    print(key)\n",
    "                    if(value[\"type\"] != \"array\"):\n",
    "                        if \"content\" in value:\n",
    "                            val = value['content']\n",
    "                        elif \"valueString\" in value:\n",
    "                            val = value['valueString']\n",
    "                        elif \"valueNumber\" in value:\n",
    "                            val = value['valueNumber']\n",
    "                        else:\n",
    "                            val = \"unknown\"\n",
    "                        print(f\"Key: {key}, \\t\\t Value: {val}\")\n",
    "                  \n",
    "            break\n",
    "            quit()\n",
    "        if status == \"failed\":\n",
    "            print(f\"{model} Analysis failed:\\n%s\" % resp_json)\n",
    "            break\n",
    "        # Analysis still running. Wait and retry.\n",
    "        time.sleep(wait_sec)\n",
    "        n_try += 1     \n",
    "    except Exception as e:\n",
    "        msg = \"GET analyze results failed:\\n%s\" % str(e)\n",
    "        print(msg)\n",
    "        break\n",
    "        quit()"
   ]
  },
  {
   "cell_type": "markdown",
   "metadata": {},
   "source": [
    "# Sample analyze ID\n"
   ]
  },
  {
   "cell_type": "code",
   "execution_count": null,
   "metadata": {},
   "outputs": [],
   "source": [
    "url = v3_url%\"prebuilt-idDocument\"\n",
    "body = { \n",
    "    \"urlSource\": \"SAS URL to a file\"\n",
    "    }\n",
    "headers = {\n",
    "    # Request headers\n",
    "    'Content-Type': 'application/json',\n",
    "    'Ocp-Apim-Subscription-Key': apim_key,\n",
    "}\n",
    "\n",
    "params = {\n",
    "   \n",
    "    \"locale\": \"en-US\"\n",
    "}\n",
    "try:\n",
    "    resp = post(url = url, data = json.dumps(body), headers = headers, params = params)\n",
    "    if resp.status_code != 202:\n",
    "        print(\"POST analyze failed:\\n%s\" % resp.text)\n",
    "        quit()\n",
    "    print(\"POST analyze succeeded:\\n\" )\n",
    "    get_url = resp.headers[\"operation-location\"]\n",
    "    print(get_url)\n",
    "except Exception as e:\n",
    "    print(\"POST analyze failed:\\n%s\" % str(e))\n",
    "    quit()"
   ]
  },
  {
   "cell_type": "code",
   "execution_count": null,
   "metadata": {},
   "outputs": [],
   "source": [
    "model = \"id\"\n",
    "n_tries = 10\n",
    "n_try = 0\n",
    "wait_sec = 6\n",
    "while n_try < n_tries:\n",
    "    try:\n",
    "        resp = get(url = get_url, headers = {\"Ocp-Apim-Subscription-Key\": apim_key})\n",
    "        resp_json = json.loads(resp.text)\n",
    "        \n",
    "        if resp.status_code != 200:\n",
    "            print(\"GET Receipt results failed:\\n%s\" % str(resp.status_code))\n",
    "            break\n",
    "        status = resp_json[\"status\"]\n",
    "        if status == \"succeeded\":\n",
    "            \n",
    "            for doc in resp_json[\"analyzeResult\"][\"documents\"]:\n",
    "                x = doc[\"fields\"][\"MachineReadableZone\"]\n",
    "                for key,value in x[\"valueObject\"].items(): \n",
    "                    print(f\"Key: {key}, \\t\\t Value: {value['content']}\")\n",
    "                \n",
    "                    \n",
    "                    \n",
    "            break\n",
    "            quit()\n",
    "        if status == \"failed\":\n",
    "            print(f\"{model} Analysis failed:\\n%s\" % resp_json)\n",
    "            break\n",
    "        # Analysis still running. Wait and retry.\n",
    "        time.sleep(wait_sec)\n",
    "        n_try += 1     \n",
    "    except Exception as e:\n",
    "        msg = \"GET analyze results failed:\\n%s\" % str(e)\n",
    "        print(msg)\n",
    "        break\n",
    "        quit()"
   ]
  },
  {
   "cell_type": "markdown",
   "metadata": {},
   "source": [
    "# Sample analyze document\n"
   ]
  },
  {
   "cell_type": "code",
   "execution_count": null,
   "metadata": {},
   "outputs": [],
   "source": [
    "url = v3_url%\"prebuilt-document\"\n",
    "body = { \n",
    "    \"urlSource\": \"SAS URL to a file\"\n",
    "    }\n",
    "headers = {\n",
    "    # Request headers\n",
    "    'Content-Type': 'application/json',\n",
    "    'Ocp-Apim-Subscription-Key': apim_key,\n",
    "}\n",
    "\n",
    "params = {\n",
    "   \n",
    "    \"locale\": \"en-US\"\n",
    "}\n",
    "try:\n",
    "    resp = post(url = url, data = json.dumps(body), headers = headers, params = params)\n",
    "    if resp.status_code != 202:\n",
    "        print(\"POST analyze failed:\\n%s\" % resp.text)\n",
    "     \n",
    "    print(\"POST analyze succeeded:\\n\")\n",
    "    get_url = resp.headers[\"operation-location\"]\n",
    "    print(get_url)\n",
    "except Exception as e:\n",
    "    print(\"POST analyze failed:\\n%s\" % str(e))\n",
    "    quit()"
   ]
  },
  {
   "cell_type": "code",
   "execution_count": null,
   "metadata": {},
   "outputs": [],
   "source": [
    "model = \"Document\"\n",
    "n_tries = 10\n",
    "n_try = 0\n",
    "wait_sec = 6\n",
    "while n_try < n_tries:\n",
    "    try:\n",
    "        resp = get(url = get_url, headers = {\"Ocp-Apim-Subscription-Key\": apim_key})\n",
    "        resp_json = json.loads(resp.text)\n",
    "        if resp.status_code != 200:\n",
    "            print(\"GET Invoice results failed:\\n%s\" % resp_json)\n",
    "            quit()\n",
    "        status = resp_json[\"status\"]\n",
    "        if status == \"succeeded\":\n",
    "            #print(f\"{model} Analysis succeeded:\\n%s\" % resp_json[\"analyzeResult\"][\"keyValuePairs\"])\n",
    "            for item in resp_json[\"analyzeResult\"][\"keyValuePairs\"]:\n",
    "                print(f\"{item['key']['content']} \\t\\t Value: {item['value']['content']}\")\n",
    "            break\n",
    "            quit()\n",
    "        if status == \"failed\":\n",
    "            print(f\"{model} Analysis failed:\\n%s\" % resp_json)\n",
    "            quit()\n",
    "        # Analysis still running. Wait and retry.\n",
    "        time.sleep(wait_sec)\n",
    "        n_try += 1     \n",
    "    except Exception as e:\n",
    "        msg = \"GET analyze results failed:\\n%s\" % str(e)\n",
    "        print(msg)\n",
    "        break\n",
    "        quit()"
   ]
  },
  {
   "cell_type": "markdown",
   "metadata": {},
   "source": [
    "# Sample Analyze Layout\n"
   ]
  },
  {
   "cell_type": "code",
   "execution_count": null,
   "metadata": {},
   "outputs": [],
   "source": [
    "url = v3_url%\"prebuilt-layout\"\n",
    "body = { \n",
    "    \"urlSource\": \"SAS URL to a file\" \n",
    "    }\n",
    "headers = {\n",
    "    # Request headers\n",
    "    'Content-Type': 'application/json',\n",
    "    'Ocp-Apim-Subscription-Key': apim_key,\n",
    "}\n",
    "\n",
    "params = {\n",
    "   \n",
    "    \"locale\": \"en-US\"\n",
    "}\n",
    "try:\n",
    "    resp = post(url = url, data = json.dumps(body), headers = headers, params = params)\n",
    "    if resp.status_code != 202:\n",
    "        print(\"POST analyze failed:\\n%s\" % resp.text)\n",
    "        quit()\n",
    "    print(\"POST analyze succeeded:\\n\" )\n",
    "    get_url = resp.headers[\"operation-location\"]\n",
    "    print(get_url)\n",
    "except Exception as e:\n",
    "    print(\"POST analyze failed:\\n%s\" % str(e))\n",
    "    quit()"
   ]
  },
  {
   "cell_type": "code",
   "execution_count": null,
   "metadata": {},
   "outputs": [],
   "source": [
    "model = \"layout\"\n",
    "n_tries = 10\n",
    "n_try = 0\n",
    "wait_sec = 6\n",
    "while n_try < n_tries:\n",
    "    try:\n",
    "        resp = get(url = get_url, headers = {\"Ocp-Apim-Subscription-Key\": apim_key})\n",
    "        resp_json = json.loads(resp.text)\n",
    "        \n",
    "        if resp.status_code != 200:\n",
    "            print(\"GET Receipt results failed:\\n%s\" % str(resp.status_code))\n",
    "            break\n",
    "        status = resp_json[\"status\"]\n",
    "        if status == \"succeeded\":\n",
    "            \n",
    "            print(resp.text)\n",
    "                \n",
    "                    \n",
    "                    \n",
    "            break\n",
    "            quit()\n",
    "        if status == \"failed\":\n",
    "            print(f\"{model} Analysis failed:\\n%s\" % resp_json)\n",
    "            break\n",
    "        # Analysis still running. Wait and retry.\n",
    "        time.sleep(wait_sec)\n",
    "        n_try += 1     \n",
    "    except Exception as e:\n",
    "        msg = \"GET analyze results failed:\\n%s\" % str(e)\n",
    "        print(msg)\n",
    "        break\n",
    "        quit()"
   ]
  },
  {
   "cell_type": "markdown",
   "metadata": {},
   "source": [
    "# Sample Train Model"
   ]
  },
  {
   "cell_type": "code",
   "execution_count": null,
   "metadata": {},
   "outputs": [],
   "source": [
    "modelId = \"car_maint_demo\"\n",
    "train_url_v3 = endpoint + \"formrecognizer/documentModels:build?api-version\" + api_version\n",
    "\n",
    "body = {\n",
    "  \"modelId\": modelId,\n",
    "  \"description\": \"Sample model\",\n",
    "  \"azureBlobSource\": {\n",
    "    \"containerUrl\": \"SAS URL to the container\",\n",
    "    \"prefix\": \"folder path with a trailing /\"\n",
    "  }\n",
    "}\n",
    "headers = {\n",
    "    # Request headers\n",
    "    'Content-Type': 'application/json',\n",
    "    'Ocp-Apim-Subscription-Key': apim_key,\n",
    "}\n",
    "\n",
    "params = {\n",
    "   \n",
    "    \"locale\": \"en-US\"\n",
    "}\n",
    "try:\n",
    "    resp = post(url = train_url_v3, data = json.dumps(body), headers = headers, params = params)\n",
    "    if resp.status_code != 202:\n",
    "        print(\"POST Train failed:\\n%s\" % resp.text)\n",
    "        quit()\n",
    "    else:\n",
    "        print(\"POST Train succeeded:\\n\" )\n",
    "        get_url = resp.headers[\"operation-location\"]\n",
    "        print(get_url)\n",
    "except Exception as e:\n",
    "    print(\"POST analyze failed:\\n%s\" % str(e))\n",
    "    quit()"
   ]
  },
  {
   "cell_type": "code",
   "execution_count": null,
   "metadata": {},
   "outputs": [],
   "source": [
    "resp = get(url = get_url, headers = {\"Ocp-Apim-Subscription-Key\": apim_key})\n",
    "resp_json = json.loads(resp.text)\n",
    "print(resp.text)"
   ]
  },
  {
   "cell_type": "markdown",
   "metadata": {},
   "source": [
    "## Sample Custom model analyze"
   ]
  },
  {
   "cell_type": "code",
   "execution_count": null,
   "metadata": {},
   "outputs": [],
   "source": [
    "\n",
    "url = v3_url%modelId\n",
    "\n",
    "body = { \n",
    "    \"urlSource\": \"SAS URL to a file\"\n",
    "    }\n",
    "headers = {\n",
    "    # Request headers\n",
    "    'Content-Type': 'application/json',\n",
    "    'Ocp-Apim-Subscription-Key': apim_key,\n",
    "}\n",
    "\n",
    "params = {\n",
    "   \n",
    "    \"locale\": \"en-US\"\n",
    "}\n",
    "try:\n",
    "    resp = post(url = url, data = json.dumps(body), headers = headers, params = params)\n",
    "    if resp.status_code != 202:\n",
    "        print(\"POST analyze failed:\\n%s\" % resp.text)\n",
    "    get_url = resp.headers[\"Operation-Location\"]\n",
    "    print(get_url)\n",
    "    print(\"POST analyze succeeded:\\n\")\n",
    "except Exception as e:\n",
    "    print(\"POST analyze failed:\\n%s\" % str(e))\n",
    "    quit()"
   ]
  },
  {
   "cell_type": "code",
   "execution_count": null,
   "metadata": {},
   "outputs": [],
   "source": [
    "resp = get(url = get_url, headers = {\"Ocp-Apim-Subscription-Key\": apim_key})\n",
    "resp_json = json.loads(resp.text)\n",
    "#print(resp.text)\n",
    "for key, value in resp_json['analyzeResult']['documents'][0]['fields'].items():\n",
    "    val = \"Array\"\n",
    "    if(value[\"type\"] != \"array\"):\n",
    "        if \"content\" in value:\n",
    "            val = value['content']\n",
    "        elif \"valueString\" in value:\n",
    "            val = value['valueString']\n",
    "        elif \"valueNumber\" in value:\n",
    "            val = value['valueNumber']\n",
    "        else:\n",
    "            val = \"unknown\"\n",
    "    print(f\"Key: {key}   \\t\\t Value: {val}\")"
   ]
  },
  {
   "cell_type": "markdown",
   "metadata": {},
   "source": [
    "# Model Management APIs\n",
    "\n",
    "## Get Models"
   ]
  },
  {
   "cell_type": "code",
   "execution_count": null,
   "metadata": {},
   "outputs": [],
   "source": [
    "get_url = endpoint + \"formrecognizer/documentModels?api-version=\" + api_version\n",
    "\n",
    "resp = get(url = get_url, headers = {\"Ocp-Apim-Subscription-Key\": apim_key})\n",
    "resp_json = json.loads(resp.text)\n",
    "print(resp.text)"
   ]
  },
  {
   "cell_type": "markdown",
   "metadata": {},
   "source": [
    "## Get Model"
   ]
  },
  {
   "cell_type": "code",
   "execution_count": null,
   "metadata": {
    "scrolled": true
   },
   "outputs": [],
   "source": [
    "\n",
    "get_url = endpoint + f\"formrecognizer/documentModels/{modelId}?api-version=\" + api_version\n",
    "print(get_url)\n",
    "resp = get(url = get_url, headers = {\"Ocp-Apim-Subscription-Key\": apim_key})\n",
    "resp_json = json.loads(resp.text)\n",
    "print(resp.text)"
   ]
  },
  {
   "cell_type": "code",
   "execution_count": null,
   "metadata": {},
   "outputs": [],
   "source": [
    "get_url = endpoint + \"formrecognizer/info?api-version=\" + api_version\n",
    "\n",
    "resp = get(url = get_url, headers = {\"Ocp-Apim-Subscription-Key\": apim_key})\n",
    "resp_json = json.loads(resp.text)\n",
    "print(resp.text)"
   ]
  },
  {
   "cell_type": "markdown",
   "metadata": {},
   "source": [
    "# Copy Model\n",
    "\n",
    "## Multi step process:\n",
    "1. Authorize copy at the destination service\n",
    "2. Initiate copy from the source service"
   ]
  },
  {
   "cell_type": "code",
   "execution_count": null,
   "metadata": {},
   "outputs": [],
   "source": [
    "dest_endpoint = \"https://{host}.cognitiveservices.azure.com/\"\n",
    "dest_apim_key = \"{API Key}\"\n",
    "copy_authorization = None\n",
    "url = dest_endpoint + \"formrecognizer/documentModels:authorizeCopy?api-version=\" + api_version\n",
    "\n",
    "body = { \n",
    "\"modelId\": \"car_maint_demo8\"    ,\n",
    "\"description\": \"test\"\n",
    "\n",
    "}\n",
    "headers = {\n",
    "    # Request headers\n",
    "    'Content-Type': 'application/json',\n",
    "    'Ocp-Apim-Subscription-Key': dest_apim_key,\n",
    "}\n",
    "\n",
    "params = {\n",
    "   \n",
    "    \"locale\": \"en-US\"\n",
    "}\n",
    "try:\n",
    "    resp = post(url = url, data = json.dumps(body), headers = headers, params = params)\n",
    "    print(resp.status_code)\n",
    "    if resp.status_code != 200:\n",
    "        print(\"POST analyze failed:\\n%s\" % resp.text)\n",
    "    copy_authorization = json.loads(resp.text)\n",
    "    print(\"POST authorize succeeded:\\n%s\" %copy_authorization)\n",
    "except Exception as e:\n",
    "    print(\"POST analyze failed:\\n%s\" % str(e))\n",
    "    quit()\n"
   ]
  },
  {
   "cell_type": "code",
   "execution_count": null,
   "metadata": {},
   "outputs": [],
   "source": [
    "print(json.dumps(copy_authorization))"
   ]
  },
  {
   "cell_type": "code",
   "execution_count": null,
   "metadata": {},
   "outputs": [],
   "source": [
    "modelId = \"model to copy\"\n",
    "url = endpoint + f\"formrecognizer/documentModels/{modelId}:copy-to?api-version=\"+ api_version\n",
    "\n",
    "print(url)\n",
    "headers = {\n",
    "    # Request headers\n",
    "    'Content-Type': 'application/json',\n",
    "    'Ocp-Apim-Subscription-Key': apim_key,\n",
    "}\n",
    "\n",
    "params = {\n",
    "   \n",
    "    \"locale\": \"en-US\"\n",
    "}\n",
    "try:\n",
    "    resp = post(url = url, data = json.dumps(copy_authorization), headers = headers, params = params)\n",
    "    if resp.status_code != 202:\n",
    "        print(\"POST analyze failed:\\n%s\" % resp.text)\n",
    "    get_url = resp.headers[\"Operation-Location\"]\n",
    "    print(get_url)\n",
    "    print(\"POST analyze succeeded:\\n\")\n",
    "except Exception as e:\n",
    "    print(\"POST analyze failed:\\n%s\" % str(e))\n",
    "    quit()"
   ]
  },
  {
   "cell_type": "code",
   "execution_count": null,
   "metadata": {},
   "outputs": [],
   "source": []
  }
 ],
 "metadata": {
  "kernelspec": {
   "display_name": "Python 3",
   "language": "python",
   "name": "python3"
  },
  "language_info": {
   "codemirror_mode": {
    "name": "ipython",
    "version": 3
   },
   "file_extension": ".py",
   "mimetype": "text/x-python",
   "name": "python",
   "nbconvert_exporter": "python",
   "pygments_lexer": "ipython3",
   "version": "3.7.4"
  }
 },
 "nbformat": 4,
 "nbformat_minor": 2
}
